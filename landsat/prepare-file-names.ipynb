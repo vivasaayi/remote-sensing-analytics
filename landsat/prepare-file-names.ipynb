{
 "cells": [
  {
   "cell_type": "code",
   "execution_count": null,
   "id": "8af159c8",
   "metadata": {},
   "outputs": [],
   "source": [
    "!aws s3api list-objects --bucket usgs-landsat --prefix collection02/level-2/standard/oli-tirs/2021/143/054 --request-payer requester > scans.json"
   ]
  },
  {
   "cell_type": "code",
   "execution_count": null,
   "id": "0d54830a",
   "metadata": {},
   "outputs": [],
   "source": [
    "import json\n",
    "import os\n",
    "\n",
    "def load_json(file_name):\n",
    "    with open(file_name) as jsonFile:\n",
    "        scans = json.load(jsonFile)\n",
    "        jsonFile.close()\n",
    "    return scans\n",
    "\n",
    "\n",
    "def get_s3_locations():\n",
    "    scans = load_json(\"scans.json\")\n",
    "    \n",
    "    locations = []\n",
    "\n",
    "    for item in scans[\"Contents\"]:\n",
    "        key = item[\"Key\"]\n",
    "\n",
    "        if(\"thumb_large.jpeg\" in key):\n",
    "            loc = {}\n",
    "            key_split = key.split(\"/\")\n",
    "            loc[\"folder_name\"] = key_split[7]\n",
    "            loc[\"s3_path\"] = \"/\".join(key_split[0:8])\n",
    "            locations.append(loc)\n",
    "            \n",
    "    return locations\n",
    "    \n",
    "def generate_s3_copy_commands(locations):\n",
    "    base_command = \"aws s3 cp --recursive --request-payer requester s3://usgs-landsat/\"\n",
    "    destination_path = \"./landsat_data/\"\n",
    "    \n",
    "    commands = \"\"\n",
    "    for item in locations:\n",
    "        command = base_command + item[\"s3_path\"] + \"/ \" + destination_path + item[\"folder_name\"] + \"/\"\n",
    "        commands = commands + \"\\n\" + command\n",
    "        \n",
    "\n",
    "    f = open(\"copy_commands.sh\", \"a\")\n",
    "    f.write(commands)\n",
    "    f.close()\n",
    "        \n",
    "    return commands\n",
    "        "
   ]
  },
  {
   "cell_type": "code",
   "execution_count": null,
   "id": "341754f1",
   "metadata": {},
   "outputs": [],
   "source": [
    "locations = get_s3_locations()\n",
    "commands = generate_s3_copy_commands(locations)\n",
    "commands"
   ]
  },
  {
   "cell_type": "code",
   "execution_count": null,
   "id": "2466ecb4",
   "metadata": {},
   "outputs": [],
   "source": [
    "!sh copy_commands.sh"
   ]
  },
  {
   "cell_type": "code",
   "execution_count": null,
   "id": "9d1376d8",
   "metadata": {},
   "outputs": [],
   "source": []
  }
 ],
 "metadata": {
  "kernelspec": {
   "display_name": "conda_python3",
   "language": "python",
   "name": "conda_python3"
  },
  "language_info": {
   "codemirror_mode": {
    "name": "ipython",
    "version": 3
   },
   "file_extension": ".py",
   "mimetype": "text/x-python",
   "name": "python",
   "nbconvert_exporter": "python",
   "pygments_lexer": "ipython3",
   "version": "3.6.13"
  }
 },
 "nbformat": 4,
 "nbformat_minor": 5
}
