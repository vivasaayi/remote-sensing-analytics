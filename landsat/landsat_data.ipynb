{
 "cells": [
  {
   "cell_type": "code",
   "execution_count": null,
   "id": "937cd50f",
   "metadata": {},
   "outputs": [],
   "source": [
    "# Copy Landsat Data"
   ]
  },
  {
   "cell_type": "code",
   "execution_count": null,
   "id": "cc282b11",
   "metadata": {},
   "outputs": [],
   "source": [
    "!aws sts get-caller-identity"
   ]
  },
  {
   "cell_type": "code",
   "execution_count": null,
   "id": "ebf33594",
   "metadata": {},
   "outputs": [],
   "source": [
    "!aws s3api list-objects --bucket usgs-landsat --prefix collection02/level-2/standard/oli-tirs/2021/143/054/ --request-payer requester"
   ]
  },
  {
   "cell_type": "code",
   "execution_count": null,
   "id": "80ad4f7b",
   "metadata": {},
   "outputs": [],
   "source": [
    "!aws s3 ls s3://usgs-landsat/collection02/level-2/standard/oli-tirs/2021/143/054/LC08_L2SP_143054_20210615_20210622_02_T1 --request-payer requester"
   ]
  },
  {
   "cell_type": "code",
   "execution_count": null,
   "id": "b81aa93d",
   "metadata": {},
   "outputs": [],
   "source": [
    "!aws s3 cp --recursive --request-payer requester s3://usgs-landsat/collection02/level-2/standard/oli-tirs/2021/143/054/LC08_L2SP_143054_20210615_20210622_02_T1/  ./landsat_data/LC08_L2SP_143054_20210615_20210622_02_T1/"
   ]
  },
  {
   "cell_type": "code",
   "execution_count": null,
   "id": "78dedc40",
   "metadata": {},
   "outputs": [],
   "source": [
    "!ls -lah landsat_data/LC08_L2SP_143054_20210615_20210622_02_T1"
   ]
  },
  {
   "cell_type": "code",
   "execution_count": null,
   "id": "add76953",
   "metadata": {},
   "outputs": [],
   "source": [
    "!pip install rasterio"
   ]
  },
  {
   "cell_type": "code",
   "execution_count": null,
   "id": "75b53ab5",
   "metadata": {},
   "outputs": [],
   "source": [
    "from matplotlib.pyplot import imshow\n",
    "import rasterio as rio"
   ]
  },
  {
   "cell_type": "code",
   "execution_count": null,
   "id": "4d5e5945",
   "metadata": {},
   "outputs": [],
   "source": [
    "file = \"./landsat_data/LC08_L2SP_143054_20210615_20210622_02_T1/LC08_L2SP_143054_20210615_20210622_02_T1_SR_B1.TIF\"\n",
    "\n",
    "with rio.open(file) as src:\n",
    "    profile = src.profile\n",
    "    arr = src.read(1)\n",
    "imshow(arr)\n"
   ]
  },
  {
   "cell_type": "code",
   "execution_count": null,
   "id": "2f8fc918",
   "metadata": {},
   "outputs": [],
   "source": [
    "file = \"./landsat_data/LC08_L2SP_143054_20210615_20210622_02_T1/LC08_L2SP_143054_20210615_20210622_02_T1_thumb_large.jpeg\"\n",
    "\n",
    "with rio.open(file) as src:\n",
    "    profile = src.profile\n",
    "    arr = src.read(1)\n",
    "imshow(arr)\n",
    "\n"
   ]
  },
  {
   "cell_type": "code",
   "execution_count": null,
   "id": "4064f357",
   "metadata": {},
   "outputs": [],
   "source": []
  }
 ],
 "metadata": {
  "kernelspec": {
   "display_name": "conda_python3",
   "language": "python",
   "name": "conda_python3"
  },
  "language_info": {
   "codemirror_mode": {
    "name": "ipython",
    "version": 3
   },
   "file_extension": ".py",
   "mimetype": "text/x-python",
   "name": "python",
   "nbconvert_exporter": "python",
   "pygments_lexer": "ipython3",
   "version": "3.6.13"
  }
 },
 "nbformat": 4,
 "nbformat_minor": 5
}
